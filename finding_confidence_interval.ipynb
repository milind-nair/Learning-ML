{
 "cells": [
  {
   "cell_type": "markdown",
   "metadata": {},
   "source": [
    "**Finding Confidence Interval**\n",
    "\n",
    "Empirical Bootstrap based Confidence Interval"
   ]
  },
  {
   "cell_type": "markdown",
   "metadata": {},
   "source": [
    " Import Numpy and Resample "
   ]
  },
  {
   "cell_type": "code",
   "execution_count": 88,
   "metadata": {},
   "outputs": [],
   "source": [
    "import numpy\n",
    "from sklearn.utils import resample"
   ]
  },
  {
   "cell_type": "markdown",
   "metadata": {},
   "source": [
    "Input Array"
   ]
  },
  {
   "cell_type": "code",
   "execution_count": 89,
   "metadata": {},
   "outputs": [],
   "source": [
    "arr = numpy.array([180,162,158,172,168,150,171,183,165,176])\n",
    "iterations = 1000\n",
    "size_of_array = int(len(arr))"
   ]
  },
  {
   "cell_type": "markdown",
   "metadata": {},
   "source": [
    "Generate k samples with replacement, from the array.\n",
    "\n",
    "Find medians of the samples"
   ]
  },
  {
   "cell_type": "code",
   "execution_count": 90,
   "metadata": {},
   "outputs": [],
   "source": [
    "medians=[]\n",
    "for i in range(iterations):\n",
    "    smple = resample(arr,n_samples=size_of_array)\n",
    "    mdian = numpy.median(smple)\n",
    "    medians.append(mdian)"
   ]
  },
  {
   "cell_type": "markdown",
   "metadata": {},
   "source": [
    "Confidence = Alpha\n",
    "\n",
    "Lower limit = $$ [((1.0-alpha)/2.0)*100]  th Percentile $$\n",
    "\n",
    "Upper limit = $$ [(alpha+(1.0-alpha)/2.0)*100]  th Percentile $$"
   ]
  },
  {
   "cell_type": "code",
   "execution_count": 91,
   "metadata": {},
   "outputs": [],
   "source": [
    "alpha = 0.95\n",
    "lower = ((1.0-alpha)/2.0)*100\n",
    "lower_limit = numpy.percentile(medians,lower)\n",
    "upper = (alpha+((1-alpha)/2.0))*100\n",
    "upper_limit = numpy.percentile(medians,upper)"
   ]
  },
  {
   "cell_type": "code",
   "execution_count": 92,
   "metadata": {},
   "outputs": [
    {
     "name": "stdout",
     "output_type": "stream",
     "text": [
      "The Confidence Interval for alpha = 95.0% is [162.0,176.0]\n"
     ]
    }
   ],
   "source": [
    "print(\"The Confidence Interval for alpha = {}% is [{},{}]\".format(alpha*100,lower_limit\n",
    ",upper_limit))"
   ]
  }
 ],
 "metadata": {
  "kernelspec": {
   "display_name": "Python 3.9.13 64-bit",
   "language": "python",
   "name": "python3"
  },
  "language_info": {
   "codemirror_mode": {
    "name": "ipython",
    "version": 3
   },
   "file_extension": ".py",
   "mimetype": "text/x-python",
   "name": "python",
   "nbconvert_exporter": "python",
   "pygments_lexer": "ipython3",
   "version": "3.9.13"
  },
  "orig_nbformat": 4,
  "vscode": {
   "interpreter": {
    "hash": "8c50134b391260745b2fe6a2c1c8b3a0342d42548246a7fa04144079639e446b"
   }
  }
 },
 "nbformat": 4,
 "nbformat_minor": 2
}
